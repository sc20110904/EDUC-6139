{
 "cells": [
  {
   "cell_type": "code",
   "execution_count": 1,
   "id": "68001132",
   "metadata": {},
   "outputs": [],
   "source": [
    "import pandas as pd\n",
    "import numpy as np\n",
    "from sklearn.metrics import make_scorer, cohen_kappa_score, roc_auc_score, accuracy_score\n",
    "from xgboost import XGBClassifier\n",
    "from sklearn.model_selection import GroupKFold"
   ]
  },
  {
   "cell_type": "code",
   "execution_count": 2,
   "id": "81e1b0b0",
   "metadata": {},
   "outputs": [],
   "source": [
    "#import\n",
    "df = pd.read_csv('/Users/sun/Downloads/ca1-dataset.csv')\n",
    "\n",
    "#Assign group\n",
    "group_dict = {}\n",
    "groups = np.array([])\n",
    "for index, row in df.iterrows():\n",
    "    name = row['namea']\n",
    "    if name not in group_dict:\n",
    "        group_dict[name] = index\n",
    "    groups = np.append(groups, group_dict[name])\n",
    "\n",
    "#find no variance data\n",
    "constant_columns = [col for col in df.columns if df[col].nunique() == 1]\n",
    "\n",
    "\n",
    "#drop data&assign x,y\n",
    "df['OffTask'] = df['OffTask'].replace({'Y': 1, 'N': 0})\n",
    "X = df.drop(columns=['OffTask', 'Unique-id', 'namea'] + constant_columns, axis=1)\n",
    "y = df['OffTask']"
   ]
  },
  {
   "cell_type": "code",
   "execution_count": 3,
   "id": "885ed98d",
   "metadata": {},
   "outputs": [
    {
     "name": "stdout",
     "output_type": "stream",
     "text": [
      "Mean Cohen's Kappa: 0.353\n",
      "Mean Accuracy: 0.964\n",
      "Mean ROC: 0.638\n"
     ]
    }
   ],
   "source": [
    "# 10 fold\n",
    "gkf = GroupKFold(n_splits=10)\n",
    "\n",
    "kappa_scores = []\n",
    "accuracy_scores = []\n",
    "roc_scores = []\n",
    "\n",
    "for train_index, test_index in gkf.split(X, y, groups=groups):\n",
    "    X_train, X_test = X.iloc[train_index], X.iloc[test_index]\n",
    "    y_train, y_test = y.iloc[train_index], y.iloc[test_index]\n",
    "    \n",
    "    # Create and fit an XGBoost classifier\n",
    "    xgb_classifier = XGBClassifier(learning_rate=0.1, n_estimators=600, random_state=5)\n",
    "    xgb_classifier.fit(X_train, y_train)\n",
    "  \n",
    "    # Make predictions\n",
    "    y_pred = xgb_classifier.predict(X_test)\n",
    "\n",
    "    # Calculate Cohen's Kappa for this fold\n",
    "    kappa = cohen_kappa_score(y_test, y_pred)\n",
    "    kappa_scores.append(kappa)\n",
    "    accuracy = accuracy_score(y_test, y_pred)\n",
    "    accuracy_scores.append(accuracy)\n",
    "    roc = roc_auc_score(y_test, y_pred)\n",
    "    roc_scores.append(roc)\n",
    "\n",
    "#Calculate the mean Cohen's Kappa score across all folds\n",
    "mean_kappa = sum(kappa_scores) / len(kappa_scores)\n",
    "mean_accuracy = sum(accuracy_scores) / len(accuracy_scores)\n",
    "mean_roc = sum(roc_scores) / len(roc_scores)\n",
    "\n",
    "print(f\"Mean Cohen's Kappa: {mean_kappa:.3f}\")\n",
    "print(f\"Mean Accuracy: {mean_accuracy:.3f}\")\n",
    "print(f\"Mean ROC: {mean_roc:.3f}\")"
   ]
  }
 ],
 "metadata": {
  "kernelspec": {
   "display_name": "Python 3 (ipykernel)",
   "language": "python",
   "name": "python3"
  },
  "language_info": {
   "codemirror_mode": {
    "name": "ipython",
    "version": 3
   },
   "file_extension": ".py",
   "mimetype": "text/x-python",
   "name": "python",
   "nbconvert_exporter": "python",
   "pygments_lexer": "ipython3",
   "version": "3.11.4"
  }
 },
 "nbformat": 4,
 "nbformat_minor": 5
}
