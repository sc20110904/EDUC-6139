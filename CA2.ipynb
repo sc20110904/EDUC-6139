{
 "cells": [
  {
   "cell_type": "code",
   "execution_count": 1,
   "id": "f1cf354f",
   "metadata": {},
   "outputs": [],
   "source": [
    "import numpy as np\n",
    "import pandas as pd\n",
    "from sklearn.metrics import roc_auc_score, cohen_kappa_score, accuracy_score\n",
    "from sklearn.model_selection import GroupKFold, train_test_split\n",
    "from xgboost import XGBClassifier"
   ]
  },
  {
   "cell_type": "code",
   "execution_count": 2,
   "id": "9994f89a",
   "metadata": {},
   "outputs": [],
   "source": [
    "df1 = pd.read_csv('/Users/sun/Desktop/LST/EDUC 6191/CA2/ca1-dataset.csv')\n",
    "df2 = pd.read_csv('/Users/sun/Desktop/LST/EDUC 6191/CA2/ca2-dataset.csv')"
   ]
  },
  {
   "cell_type": "code",
   "execution_count": 3,
   "id": "7715ea78",
   "metadata": {},
   "outputs": [],
   "source": [
    "df2 = df2.groupby('Unique-id').last().reset_index()"
   ]
  },
  {
   "cell_type": "code",
   "execution_count": 4,
   "id": "48542c30",
   "metadata": {},
   "outputs": [],
   "source": [
    "# Create new column\n",
    "# 1. \n",
    "df2['timelast5'] =  ((df2['timelast5SDnormed']-df2['timeSDnormed']>0)).astype(int)\n",
    "# 2. \n",
    "df2['Not_Thinking'] =((df2['right'] == 0) & (df2['help'] == 0) & (df2['bug'] == 0) & (df2['time'] <= 20)).astype(int)\n",
    "# 3. \n",
    "df2['timelast3'] = ((df2['timelast3SDnormed']-df2['timeSDnormed'] <0)).astype(int)\n",
    "# 4. \n",
    "df2['helprecent'] = df2['recent8help'] / 8 + df2[' recent5wrong'] / 5 \n",
    "# 5.\n",
    "df2['help_count_by_prod'] = df2[df2['help'] == 1].groupby('prod')['help'].transform('sum')\n",
    "# 6.\n",
    "df2['timeSD'] = (((df2['timeSDnormed']*df2['timelast3SDnormed']*df2['timelast5SDnormed'])<0)).astype(int)\n",
    "# 7.\n",
    "df2['PrevC'] = (df2['Prev3Count-up']/3<df2['Prev5Count-up']/5).astype(int)\n",
    "# 8.\n",
    "df2['manyPrev'] = df2['manywrong-up'] - df2['helppct-up']  \n",
    "# 9.\n",
    "df2['react'] = ((df2['notright'] == 1)& (df2['time'] <= 15)).astype(int)\n",
    "# 10. \n",
    "df2['recent'] = df2[' recent5wrong'] / 5 "
   ]
  },
  {
   "cell_type": "code",
   "execution_count": 5,
   "id": "3e67dbf7",
   "metadata": {},
   "outputs": [],
   "source": [
    "new_features = df2[['Unique-id','timelast5','Not_Thinking','timelast3','helprecent','help_count_by_prod',\n",
    "                   'timeSD','PrevC','react','manyPrev','recent']]"
   ]
  },
  {
   "cell_type": "code",
   "execution_count": 6,
   "id": "1f1b8ad5",
   "metadata": {},
   "outputs": [],
   "source": [
    "df = df1.merge(new_features, on='Unique-id', how='left')"
   ]
  },
  {
   "cell_type": "code",
   "execution_count": 7,
   "id": "e4bf2c60",
   "metadata": {},
   "outputs": [],
   "source": [
    "group_dict = {}\n",
    "groups = np.array([])\n",
    "for index, row in df.iterrows():\n",
    "    name = row['namea']\n",
    "    if name not in group_dict:\n",
    "        group_dict[name] = index\n",
    "    groups = np.append(groups, group_dict[name])\n",
    "\n",
    "#find no variance data\n",
    "constant_columns = [col for col in df.columns if df[col].nunique() == 1]\n",
    "df['OffTask'] = df['OffTask'].replace({'Y': 1, 'N': 0})\n",
    "X = df.drop(columns=['OffTask', 'Unique-id', 'namea','AvgPrev3Count-up','AvgPrev5Count-up'] + constant_columns, axis=1)\n",
    "y = df['OffTask']"
   ]
  },
  {
   "cell_type": "code",
   "execution_count": 8,
   "id": "b2b0f5bd",
   "metadata": {},
   "outputs": [
    {
     "name": "stdout",
     "output_type": "stream",
     "text": [
      "Mean Cohen's Kappa: 0.364\n",
      "Mean Accuracy: 0.962\n",
      "Mean ROC: 0.653\n"
     ]
    }
   ],
   "source": [
    "gkf = GroupKFold(n_splits=10)\n",
    "\n",
    "kappa_scores = []\n",
    "accuracy_scores = []\n",
    "roc_scores = []\n",
    "\n",
    "for train_index, test_index in gkf.split(X, y, groups=groups):\n",
    "    X_train, X_test = X.iloc[train_index], X.iloc[test_index]\n",
    "    y_train, y_test = y.iloc[train_index], y.iloc[test_index]\n",
    "\n",
    "    # Create and fit an XGBoost classifier with early stopping\n",
    "    xgb_classifier = XGBClassifier(\n",
    "        learning_rate=0.1,\n",
    "        n_estimators=600, \n",
    "        random_state=5,\n",
    "    )\n",
    "    \n",
    "    xgb_classifier.fit(\n",
    "        X_train, y_train,\n",
    "    )\n",
    "\n",
    "    # Make predictions\n",
    "    y_pred = xgb_classifier.predict(X_test)\n",
    "\n",
    "    # Calculate Cohen's Kappa for this fold\n",
    "    kappa = cohen_kappa_score(y_test, y_pred)\n",
    "    kappa_scores.append(kappa)\n",
    "    accuracy = accuracy_score(y_test, y_pred)\n",
    "    accuracy_scores.append(accuracy)\n",
    "    roc = roc_auc_score(y_test, y_pred)\n",
    "    roc_scores.append(roc)\n",
    "\n",
    "# Calculate the mean Cohen's Kappa score across all folds\n",
    "mean_kappa = sum(kappa_scores) / len(kappa_scores)\n",
    "mean_accuracy = sum(accuracy_scores) / len(accuracy_scores)\n",
    "mean_roc = sum(roc_scores) / len(roc_scores)\n",
    "\n",
    "print(f\"Mean Cohen's Kappa: {mean_kappa:.3f}\")\n",
    "print(f\"Mean Accuracy: {mean_accuracy:.3f}\")\n",
    "print(f\"Mean ROC: {mean_roc:.3f}\")"
   ]
  },
  {
   "cell_type": "code",
   "execution_count": 9,
   "id": "0d2cae19",
   "metadata": {},
   "outputs": [
    {
     "name": "stdout",
     "output_type": "stream",
     "text": [
      "Mean Cohen's Kappa with early stop: 0.334\n",
      "Mean Accuracy with early stop: 0.963\n",
      "Mean ROC with early stop: 0.637\n"
     ]
    }
   ],
   "source": [
    "for train_index, test_index in gkf.split(X, y, groups=groups):\n",
    "    X_train, X_test = X.iloc[train_index], X.iloc[test_index]\n",
    "    y_train, y_test = y.iloc[train_index], y.iloc[test_index]\n",
    "\n",
    "    # Create and fit an XGBoost classifier with early stopping\n",
    "    xgb_classifier = XGBClassifier(\n",
    "        learning_rate=0.1,\n",
    "        n_estimators=1000,  # A large number to ensure early stopping works\n",
    "        random_state=5,\n",
    "        eval_metric=\"logloss\",  # Use log loss for early stopping\n",
    "        early_stopping_rounds=10,  # Stop if the validation metric doesn't improve for 10 rounds\n",
    "    )\n",
    "    \n",
    "    xgb_classifier.fit(\n",
    "        X_train, y_train,\n",
    "        eval_set=[(X_test, y_test)],  # Validation set\n",
    "        verbose=False  # Set to True if you want to see the training progress\n",
    "    )\n",
    "\n",
    "    # Make predictions\n",
    "    y_pred = xgb_classifier.predict(X_test)\n",
    "\n",
    "    # Calculate Cohen's Kappa for this fold\n",
    "    kappa = cohen_kappa_score(y_test, y_pred)\n",
    "    kappa_scores.append(kappa)\n",
    "    accuracy = accuracy_score(y_test, y_pred)\n",
    "    accuracy_scores.append(accuracy)\n",
    "    roc = roc_auc_score(y_test, y_pred)\n",
    "    roc_scores.append(roc)\n",
    "\n",
    "# Calculate the mean Cohen's Kappa score across all folds\n",
    "mean_kappa = sum(kappa_scores) / len(kappa_scores)\n",
    "mean_accuracy = sum(accuracy_scores) / len(accuracy_scores)\n",
    "mean_roc = sum(roc_scores) / len(roc_scores)\n",
    "\n",
    "print(f\"Mean Cohen's Kappa with early stop: {mean_kappa:.3f}\")\n",
    "print(f\"Mean Accuracy with early stop: {mean_accuracy:.3f}\")\n",
    "print(f\"Mean ROC with early stop: {mean_roc:.3f}\")"
   ]
  },
  {
   "cell_type": "code",
   "execution_count": 10,
   "id": "da72bd51",
   "metadata": {},
   "outputs": [
    {
     "name": "stdout",
     "output_type": "stream",
     "text": [
      "Old Mean Cohen's Kappa: 0.353\n",
      "Old Mean Accuracy: 0.964\n",
      "Old Mean ROC: 0.638\n"
     ]
    }
   ],
   "source": [
    "group_dict = {}\n",
    "groups = np.array([])\n",
    "for index, row in df1.iterrows():\n",
    "    name = row['namea']\n",
    "    if name not in group_dict:\n",
    "        group_dict[name] = index\n",
    "    groups = np.append(groups, group_dict[name])\n",
    "\n",
    "#find no variance data\n",
    "constant_columns = [col for col in df1.columns if df1[col].nunique() == 1]\n",
    "df1['OffTask'] = df1['OffTask'].replace({'Y': 1, 'N': 0})\n",
    "X = df1.drop(columns=['OffTask', 'Unique-id', 'namea'] + constant_columns, axis=1)\n",
    "y = df1['OffTask']\n",
    "gkf = GroupKFold(n_splits=10)\n",
    "\n",
    "kappa_scores = []\n",
    "accuracy_scores = []\n",
    "roc_scores = []\n",
    "\n",
    "for train_index, test_index in gkf.split(X, y, groups=groups):\n",
    "    X_train, X_test = X.iloc[train_index], X.iloc[test_index]\n",
    "    y_train, y_test = y.iloc[train_index], y.iloc[test_index]\n",
    "\n",
    "    # Create and fit an XGBoost classifier with early stopping\n",
    "    xgb_classifier = XGBClassifier(\n",
    "        learning_rate=0.1,\n",
    "        n_estimators=600,\n",
    "        random_state=5,\n",
    "    )\n",
    "    \n",
    "    xgb_classifier.fit(\n",
    "        X_train, y_train,\n",
    "    )\n",
    "\n",
    "\n",
    "    # Make predictions\n",
    "    y_pred = xgb_classifier.predict(X_test)\n",
    "\n",
    "    # Calculate Cohen's Kappa for this fold\n",
    "    kappa = cohen_kappa_score(y_test, y_pred)\n",
    "    kappa_scores.append(kappa)\n",
    "    accuracy = accuracy_score(y_test, y_pred)\n",
    "    accuracy_scores.append(accuracy)\n",
    "    roc = roc_auc_score(y_test, y_pred)\n",
    "    roc_scores.append(roc)\n",
    "\n",
    "# Calculate the mean Cohen's Kappa score across all folds\n",
    "mean_kappa = sum(kappa_scores) / len(kappa_scores)\n",
    "mean_accuracy = sum(accuracy_scores) / len(accuracy_scores)\n",
    "mean_roc = sum(roc_scores) / len(roc_scores)\n",
    "\n",
    "print(f\"Old Mean Cohen's Kappa: {mean_kappa:.3f}\")\n",
    "print(f\"Old Mean Accuracy: {mean_accuracy:.3f}\")\n",
    "print(f\"Old Mean ROC: {mean_roc:.3f}\")"
   ]
  },
  {
   "cell_type": "code",
   "execution_count": 11,
   "id": "099a0449",
   "metadata": {},
   "outputs": [
    {
     "name": "stdout",
     "output_type": "stream",
     "text": [
      "Old Mean Cohen's Kappa with early stop: 0.316\n",
      "Old Mean Accuracy with early stop: 0.963\n",
      "Old Mean ROC with early stop: 0.625\n"
     ]
    }
   ],
   "source": [
    "for train_index, test_index in gkf.split(X, y, groups=groups):\n",
    "    X_train, X_test = X.iloc[train_index], X.iloc[test_index]\n",
    "    y_train, y_test = y.iloc[train_index], y.iloc[test_index]\n",
    "\n",
    "    # Create and fit an XGBoost classifier with early stopping\n",
    "    xgb_classifier = XGBClassifier(\n",
    "        learning_rate=0.1,\n",
    "        n_estimators=1000,  # A large number to ensure early stopping works\n",
    "        random_state=5,\n",
    "        eval_metric=\"logloss\",  # Use log loss for early stopping\n",
    "        early_stopping_rounds=10,  # Stop if the validation metric doesn't improve for 10 rounds\n",
    "    )\n",
    "    \n",
    "    xgb_classifier.fit(\n",
    "        X_train, y_train,\n",
    "        eval_set=[(X_test, y_test)],  # Validation set\n",
    "        verbose=False  # Set to True if you want to see the training progress\n",
    "    )\n",
    "\n",
    "\n",
    "    # Make predictions\n",
    "    y_pred = xgb_classifier.predict(X_test)\n",
    "\n",
    "    # Calculate Cohen's Kappa for this fold\n",
    "    kappa = cohen_kappa_score(y_test, y_pred)\n",
    "    kappa_scores.append(kappa)\n",
    "    accuracy = accuracy_score(y_test, y_pred)\n",
    "    accuracy_scores.append(accuracy)\n",
    "    roc = roc_auc_score(y_test, y_pred)\n",
    "    roc_scores.append(roc)\n",
    "\n",
    "# Calculate the mean Cohen's Kappa score across all folds\n",
    "mean_kappa = sum(kappa_scores) / len(kappa_scores)\n",
    "mean_accuracy = sum(accuracy_scores) / len(accuracy_scores)\n",
    "mean_roc = sum(roc_scores) / len(roc_scores)\n",
    "\n",
    "print(f\"Old Mean Cohen's Kappa with early stop: {mean_kappa:.3f}\")\n",
    "print(f\"Old Mean Accuracy with early stop: {mean_accuracy:.3f}\")\n",
    "print(f\"Old Mean ROC with early stop: {mean_roc:.3f}\")"
   ]
  }
 ],
 "metadata": {
  "kernelspec": {
   "display_name": "Python 3 (ipykernel)",
   "language": "python",
   "name": "python3"
  },
  "language_info": {
   "codemirror_mode": {
    "name": "ipython",
    "version": 3
   },
   "file_extension": ".py",
   "mimetype": "text/x-python",
   "name": "python",
   "nbconvert_exporter": "python",
   "pygments_lexer": "ipython3",
   "version": "3.11.4"
  }
 },
 "nbformat": 4,
 "nbformat_minor": 5
}
